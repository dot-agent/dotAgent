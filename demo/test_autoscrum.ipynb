{
 "cells": [
  {
   "cell_type": "code",
   "execution_count": 1,
   "metadata": {},
   "outputs": [],
   "source": [
    "from autoscrum import AutoScrum\n",
    "\n",
    "scrum = AutoScrum('autoscrum/test.json')"
   ]
  },
  {
   "cell_type": "code",
   "execution_count": 2,
   "metadata": {},
   "outputs": [
    {
     "name": "stdout",
     "output_type": "stream",
     "text": [
      "Traceback (most recent call last):\n",
      "  File \"/home/anuragbsoyi/vscode/openAMS/openams/engine/_program_executor.py\", line 109, in run\n",
      "    await self.visit(self.parse_tree, VariableStack([self.program._variables], self))\n",
      "  File \"/home/anuragbsoyi/vscode/openAMS/openams/engine/_program_executor.py\", line 559, in visit\n",
      "    visited_children.append(await self.visit(child, variable_stack, inner_next_node, inner_next_next_node, inner_prev_node, node, parent_node))\n",
      "  File \"/home/anuragbsoyi/vscode/openAMS/openams/engine/_program_executor.py\", line 524, in visit\n",
      "    command_output = await command_function(*positional_args, **named_args)\n",
      "  File \"/home/anuragbsoyi/vscode/openAMS/openams/engine/library/_assistant.py\", line 13, in assistant\n",
      "    return await role(role_name=\"assistant\", hidden=hidden, _parser_context=_parser_context, **kwargs)\n",
      "  File \"/home/anuragbsoyi/vscode/openAMS/openams/engine/library/_role.py\", line 17, in role\n",
      "    new_content += await parser.visit(\n",
      "  File \"/home/anuragbsoyi/vscode/openAMS/openams/engine/_program_executor.py\", line 559, in visit\n",
      "    visited_children.append(await self.visit(child, variable_stack, inner_next_node, inner_next_next_node, inner_prev_node, node, parent_node))\n",
      "  File \"/home/anuragbsoyi/vscode/openAMS/openams/engine/_program_executor.py\", line 559, in visit\n",
      "    visited_children.append(await self.visit(child, variable_stack, inner_next_node, inner_next_next_node, inner_prev_node, node, parent_node))\n",
      "  File \"/home/anuragbsoyi/vscode/openAMS/openams/engine/_program_executor.py\", line 266, in visit\n",
      "    visited_children = [await self.visit(child, variable_stack, next_node, next_next_node, prev_node, node, parent_node) for child in node]\n",
      "  File \"/home/anuragbsoyi/vscode/openAMS/openams/engine/_program_executor.py\", line 266, in <listcomp>\n",
      "    visited_children = [await self.visit(child, variable_stack, next_node, next_next_node, prev_node, node, parent_node) for child in node]\n",
      "  File \"/home/anuragbsoyi/vscode/openAMS/openams/engine/_program_executor.py\", line 379, in visit\n",
      "    command_output = await command_function(*positional_args, **named_args)\n",
      "  File \"/home/anuragbsoyi/vscode/openAMS/openams/engine/library/_gen.py\", line 140, in gen\n",
      "    gen_obj = await parser.llm_session(\n",
      "  File \"/home/anuragbsoyi/vscode/openAMS/openams/engine/endpoints/_openai.py\", line 683, in __call__\n",
      "    out = await self.llm.caller(**call_args)\n",
      "  File \"/home/anuragbsoyi/vscode/openAMS/openams/engine/endpoints/_openai.py\", line 380, in _library_call\n",
      "    assert openai.api_key is not None, \"You must provide an OpenAI API key to use the OpenAI LLM. Either pass it in the constructor, set the OPENAI_API_KEY environment variable, or create the file ~/.openai_api_key with your key in it.\"\n",
      "AssertionError: You must provide an OpenAI API key to use the OpenAI LLM. Either pass it in the constructor, set the OPENAI_API_KEY environment variable, or create the file ~/.openai_api_key with your key in it.\n",
      "\n",
      "Error in program:  You must provide an OpenAI API key to use the OpenAI LLM. Either pass it in the constructor, set the OPENAI_API_KEY environment variable, or create the file ~/.openai_api_key with your key in it.\n",
      "Error: JSON conversion failed\n"
     ]
    },
    {
     "data": {
      "text/plain": [
       "[]"
      ]
     },
     "execution_count": 2,
     "metadata": {},
     "output_type": "execute_result"
    }
   ],
   "source": [
    "scrum.gen_plan(count = 5)"
   ]
  },
  {
   "cell_type": "code",
   "execution_count": null,
   "metadata": {},
   "outputs": [],
   "source": []
  }
 ],
 "metadata": {
  "kernelspec": {
   "display_name": "openams",
   "language": "python",
   "name": "python3"
  },
  "language_info": {
   "codemirror_mode": {
    "name": "ipython",
    "version": 3
   },
   "file_extension": ".py",
   "mimetype": "text/x-python",
   "name": "python",
   "nbconvert_exporter": "python",
   "pygments_lexer": "ipython3",
   "version": "3.9.2"
  },
  "orig_nbformat": 4
 },
 "nbformat": 4,
 "nbformat_minor": 2
}
